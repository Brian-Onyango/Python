{
  "nbformat": 4,
  "nbformat_minor": 0,
  "metadata": {
    "colab": {
      "name": "Moringa_Data_Science_Prep_W2_Independent_Project_2022_02_Brian_Onyango_Python_Notebook",
      "provenance": [],
      "authorship_tag": "ABX9TyPO9FlHSZnHO9qpv8PgntVG",
      "include_colab_link": true
    },
    "kernelspec": {
      "name": "python3",
      "display_name": "Python 3"
    },
    "language_info": {
      "name": "python"
    }
  },
  "cells": [
    {
      "cell_type": "markdown",
      "metadata": {
        "id": "view-in-github",
        "colab_type": "text"
      },
      "source": [
        "<a href=\"https://colab.research.google.com/github/Brian-Onyango/Python/blob/main/Moringa_Data_Science_Prep_W2_Independent_Project_2022_02_Brian_Onyango_Python_Notebook.ipynb\" target=\"_parent\"><img src=\"https://colab.research.google.com/assets/colab-badge.svg\" alt=\"Open In Colab\"/></a>"
      ]
    },
    {
      "cell_type": "markdown",
      "source": [
        "Your understanding of how python dictionaries work will later form the basis of its applications during data analysis with python. \n",
        "\n",
        "In this part of the Independent project, you will be required to perform the following procedures using the given contact_book dictionary. Initially, this dictionary will have the following contacts as keys and values."
      ],
      "metadata": {
        "id": "xOGjvTHcEmbq"
      }
    },
    {
      "cell_type": "code",
      "source": [
        "contact_book = {'Parul' : 'parul@moringa.org',\n",
        "\n",
        "        'Thomas' : 'thomas@moringa.org',\n",
        "\n",
        "        'Ashley' : 'ashley@moringa.org',\n",
        "\n",
        "        'Kellen' : 'kellen@moringa.org',\n",
        "\n",
        "        'June' : 'june@moringa.org',\n",
        "\n",
        "        'Joseph' : 'joe@moringa.org',\n",
        "\n",
        "        'Lillian' : 'lillian@moringa.org',\n",
        "\n",
        "        'Arnold' : 'arnold@moringa.org' \n",
        "}"
      ],
      "metadata": {
        "id": "5CDc9JRmEteZ"
      },
      "execution_count": 1,
      "outputs": []
    },
    {
      "cell_type": "markdown",
      "source": [
        "You will write python code that performs the following procedures\n",
        "\n",
        "-Delete a contact from the dictionary when the user specifies the its key \n",
        "-Print out the first 2 contacts. \n",
        "-Display the total no. of contacts left in the dictionary.\n",
        "-Add 2 new contacts in the dictionary. \n",
        "-Print out all the contacts."
      ],
      "metadata": {
        "id": "FUPJzbSXExSm"
      }
    },
    {
      "cell_type": "code",
      "source": [
        "#Delete a contact from the dictionary when the user specifies the its key\n",
        "del contact_book['Parul']"
      ],
      "metadata": {
        "id": "gpG-e5hCE5EW"
      },
      "execution_count": 2,
      "outputs": []
    },
    {
      "cell_type": "code",
      "source": [
        "print(contact_book)"
      ],
      "metadata": {
        "colab": {
          "base_uri": "https://localhost:8080/"
        },
        "id": "rbJ2D8X9FSxn",
        "outputId": "df104a2f-73be-4da9-c518-3da707284265"
      },
      "execution_count": 3,
      "outputs": [
        {
          "output_type": "stream",
          "name": "stdout",
          "text": [
            "{'Thomas': 'thomas@moringa.org', 'Ashley': 'ashley@moringa.org', 'Kellen': 'kellen@moringa.org', 'June': 'june@moringa.org', 'Joseph': 'joe@moringa.org', 'Lillian': 'lillian@moringa.org', 'Arnold': 'arnold@moringa.org'}\n"
          ]
        }
      ]
    },
    {
      "cell_type": "code",
      "source": [
        "#Print out the first 2 contacts\n",
        "# printing original dictionary \n",
        "print(contact_book)\n",
        "    \n",
        "# Initialize limit \n",
        "N = 2\n",
        "    \n",
        "# Using items() + list slicing \n",
        "# Get first K items in dictionary \n",
        "out = dict(list(contact_book.items())[0: N]) \n",
        "        \n",
        "# printing result  \n",
        "print(out)"
      ],
      "metadata": {
        "colab": {
          "base_uri": "https://localhost:8080/"
        },
        "id": "wnf_v7BQFd89",
        "outputId": "1ea1018a-cd60-4a57-ad4f-95359324b16e"
      },
      "execution_count": 13,
      "outputs": [
        {
          "output_type": "stream",
          "name": "stdout",
          "text": [
            "{'Thomas': 'thomas@moringa.org', 'Ashley': 'ashley@moringa.org', 'Kellen': 'kellen@moringa.org', 'June': 'june@moringa.org', 'Joseph': 'joe@moringa.org', 'Lillian': 'lillian@moringa.org', 'Arnold': 'arnold@moringa.org'}\n",
            "{'Thomas': 'thomas@moringa.org', 'Ashley': 'ashley@moringa.org'}\n"
          ]
        }
      ]
    },
    {
      "cell_type": "code",
      "source": [
        "#Display the total no. of contacts left in the dictionary\n",
        "print(len(contact_book))"
      ],
      "metadata": {
        "colab": {
          "base_uri": "https://localhost:8080/"
        },
        "id": "FW7K7vFvKQsX",
        "outputId": "cc71c8e7-8e29-43e0-a092-6c38b7d39f62"
      },
      "execution_count": 14,
      "outputs": [
        {
          "output_type": "stream",
          "name": "stdout",
          "text": [
            "7\n"
          ]
        }
      ]
    },
    {
      "cell_type": "code",
      "source": [
        "#Add 2 new contacts in the dictionary\n",
        "contact_book['Brian']= 'brian@moringa.org'\n",
        "contact_book['Jane']= 'jane@moringa.org'"
      ],
      "metadata": {
        "id": "5IRecBoyKn2n"
      },
      "execution_count": 15,
      "outputs": []
    },
    {
      "cell_type": "code",
      "source": [
        "#Print out all the contacts.\n",
        "print(contact_book)"
      ],
      "metadata": {
        "colab": {
          "base_uri": "https://localhost:8080/"
        },
        "id": "LdE-MzCXLNlm",
        "outputId": "852b388e-d74d-4880-da77-e0db215d7686"
      },
      "execution_count": 16,
      "outputs": [
        {
          "output_type": "stream",
          "name": "stdout",
          "text": [
            "{'Thomas': 'thomas@moringa.org', 'Ashley': 'ashley@moringa.org', 'Kellen': 'kellen@moringa.org', 'June': 'june@moringa.org', 'Joseph': 'joe@moringa.org', 'Lillian': 'lillian@moringa.org', 'Arnold': 'arnold@moringa.org', 'Brian': 'brian@moringa.org', 'Jane': 'jane@moringa.org'}\n"
          ]
        }
      ]
    }
  ]
}